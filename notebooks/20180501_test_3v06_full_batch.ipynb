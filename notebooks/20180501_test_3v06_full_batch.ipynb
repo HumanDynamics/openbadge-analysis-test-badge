{
 "cells": [
  {
   "cell_type": "markdown",
   "metadata": {},
   "source": [
    "# Check data from hubs"
   ]
  },
  {
   "cell_type": "markdown",
   "metadata": {},
   "source": [
    "checking ~113 badges in a single run. using 7 hubs"
   ]
  },
  {
   "cell_type": "code",
   "execution_count": 1,
   "metadata": {},
   "outputs": [],
   "source": [
    "#import sys\n",
    "#!{sys.executable} -m pip install sklearn"
   ]
  },
  {
   "cell_type": "code",
   "execution_count": 2,
   "metadata": {},
   "outputs": [],
   "source": [
    "from __future__ import absolute_import, division, print_function\n",
    "\n",
    "import pandas as pd\n",
    "import numpy as np\n",
    "\n",
    "import pytz\n",
    "import gzip\n",
    "\n",
    "# Import the data analysis tools\n",
    "import openbadge_analysis as ob\n",
    "import openbadge_analysis.preprocessing\n",
    "import openbadge_analysis.core"
   ]
  },
  {
   "cell_type": "code",
   "execution_count": 3,
   "metadata": {},
   "outputs": [],
   "source": [
    "# Settings\n",
    "time_zone = 'US/Eastern' # Your local timezone\n",
    "hublog_time_zone = 'UTC'\n",
    "log_version = '2.0'\n",
    "time_bins_size = '15S' # For proximity scans\n",
    "\n",
    "folder = '../data/raw/20180501_test_3v06_full_batch/'\n",
    "proximity_filename = folder+'proximity_archive.txt.gz'\n",
    "audio_filename = folder+'audio_archive.txt.gz'\n",
    "hublog_filename = folder+'hub.log.gz'"
   ]
  },
  {
   "cell_type": "code",
   "execution_count": 4,
   "metadata": {},
   "outputs": [
    {
     "data": {
      "text/plain": [
       "[1] \"US/Eastern\"\n"
      ]
     },
     "metadata": {},
     "output_type": "display_data"
    }
   ],
   "source": [
    "# enables the %%R magic, not necessary if you've already done this\n",
    "import readline\n",
    "%load_ext rpy2.ipython \n",
    "\n",
    "%R -i time_zone timezone <- time_zone; print(timezone)"
   ]
  },
  {
   "cell_type": "code",
   "execution_count": 5,
   "metadata": {},
   "outputs": [],
   "source": [
    "%%R\n",
    "library(ggplot2)\n",
    "library(scales)\n",
    "rh_theme = theme(\n",
    "    legend.title=element_text(size=2) , \n",
    "    legend.text=element_text(size=3)\n",
    "    #panel.background=element_rect(fill=\"white\"), # background=white\n",
    "    #panel.grid.major.x=element_blank(), #no gridlines\n",
    "    #panel.grid.minor.x=element_blank(), \n",
    "    #panel.grid.major.y=element_blank(), \n",
    "    #panel.grid.minor.y=element_blank(),\n",
    "    #axis.text.x = element_text(angle=90, hjust = 1,vjust=1,size = 4,face = \"bold\"),\n",
    "    #axis.text.y = element_text(size = 4)\n",
    ")"
   ]
  },
  {
   "cell_type": "markdown",
   "metadata": {},
   "source": [
    "# Load data"
   ]
  },
  {
   "cell_type": "code",
   "execution_count": 6,
   "metadata": {},
   "outputs": [
    {
     "name": "stdout",
     "output_type": "stream",
     "text": [
      "Loading voltage data (from proximity records)\n",
      "('Error in line#:', 599607, '{\"type\": \"proximity received\", \"log_timestamp\": 1525253442.747, \"data\": {\"timestamp\": 1525253239.0, \"rssi_distances\": {\"318\": {\"count\": 1, \"rssi\": -44}, \"338\": {\"count\": 2, \"rssi\": -44}, \"335\": {\"count\": 3, \"rssi\": -44}, \"333\": {\"count\": 2, \"rssi\": -44}, \"391\": {\"count\": 2, \"rssi\": -44}, \"413\": {\"count\": 1, \"rssi\": -44}, \"369\": {\"count\": 2, \"rssi\": -44}, \"407\": {\"count\": 2, \"rssi\": -44}, \"402\": {\"count\": 1, \"rssi\": -44}, \"324\": {\"count\": 4, \"rssi\": -44}, \"400\": {\"count\": 2, \"rssi\": -44}, \"367\": {\"count\": 3, \"rssi\": -44}, \"365\": {\"count\": 3, \"rssi\": -44}, \"349\": {\"count\": 3, \"rssi\": -44}, \"401\": {\"count\": 2, \"rssi\": -44}, \"302\": {\"count\": 1, \"rssi\": -44}, \"303\": {\"count{\"type\": \"proximity received\", \"log_timestamp\": 1525252134.635, \"data\": {\"timestamp\": 1525252107.0, \"rssi_distances\": {\"311\": {\"count\": 2, \"rssi\": -44}, \"310\": {\"count\": 3, \"rssi\": -44}, \"317\": {\"count\": 4, \"rssi\": -44}, \"333\": {\"count\": 3, \"rssi\": -44}, \"393\": {\"count\": 3, \"rssi\": -44}, \"394\": {\"count\": 2, \"rssi\": -44}, \"379\": {\"count\": 2, \"rssi\": -44}, \"407\": {\"count\": 1, \"rssi\": -44}, \"406\": {\"count\": 4, \"rssi\": -44}, \"405\": {\"count\": 1, \"rssi\": -44}, \"326\": {\"count\": 3, \"rssi\": -44}, \"327\": {\"count\": 2, \"rssi\": -44}, \"342\": {\"count\": 2, \"rssi\": -44}, \"328\": {\"count\": 1, \"rssi\": -44}, \"329\": {\"count\": 2, \"rssi\": -44}, \"360\": {\"count\": 3, \"rssi\": -44}, \"401\": {\"count\": 2, \"rssi\": -44}, \"301\": {\"count\": 3, \"rssi\": -44}, \"302\": {\"count\": 3, \"rssi\": -44}, \"357\": {\"count\": 2, \"rssi\": -44}, \"378\": {\"count\": 3, \"rssi\": -44}, \"411\": {\"count\": 3, \"rssi\": -44}, \"412\": {\"count\": 3, \"rssi\": -44}, \"413\": {\"count\": 5, \"rssi\": -44}, \"373\": {\"count\": 1, \"rssi\": -44}, \"375\": {\"count\": 2, \"rssi\": -44}, \"374\": {\"count\": 3, \"rssi\": -44}, \"359\": {\"count\": 4, \"rssi\": -44}, \"358\": {\"count\": 3, \"rssi\": -44}}, \"member\": \"JBG90FXD91\", \"voltage\": 2.74, \"member_id\": 309, \"badge_address\": \"CF:CC:95:B8:DB:66\"}, \"log_index\": -1}\\n')\n"
     ]
    },
    {
     "ename": "KeyboardInterrupt",
     "evalue": "",
     "output_type": "error",
     "traceback": [
      "\u001b[0;31m---------------------------------------------------------------------------\u001b[0m",
      "\u001b[0;31mKeyboardInterrupt\u001b[0m                         Traceback (most recent call last)",
      "\u001b[0;32m<ipython-input-6-478559151513>\u001b[0m in \u001b[0;36m<module>\u001b[0;34m()\u001b[0m\n\u001b[1;32m      1\u001b[0m \u001b[0;32mprint\u001b[0m\u001b[0;34m(\u001b[0m\u001b[0;34m\"Loading voltage data (from proximity records)\"\u001b[0m\u001b[0;34m)\u001b[0m\u001b[0;34m\u001b[0m\u001b[0m\n\u001b[1;32m      2\u001b[0m \u001b[0;32mwith\u001b[0m \u001b[0mgzip\u001b[0m\u001b[0;34m.\u001b[0m\u001b[0mopen\u001b[0m\u001b[0;34m(\u001b[0m\u001b[0mproximity_filename\u001b[0m\u001b[0;34m,\u001b[0m \u001b[0;34m'r'\u001b[0m\u001b[0;34m)\u001b[0m \u001b[0;32mas\u001b[0m \u001b[0mf\u001b[0m\u001b[0;34m:\u001b[0m\u001b[0;34m\u001b[0m\u001b[0m\n\u001b[0;32m----> 3\u001b[0;31m     \u001b[0mvoltages\u001b[0m \u001b[0;34m=\u001b[0m \u001b[0mob\u001b[0m\u001b[0;34m.\u001b[0m\u001b[0mpreprocessing\u001b[0m\u001b[0;34m.\u001b[0m\u001b[0mvoltages\u001b[0m\u001b[0;34m(\u001b[0m\u001b[0mf\u001b[0m\u001b[0;34m,\u001b[0m \u001b[0mtime_bins_size\u001b[0m\u001b[0;34m,\u001b[0m \u001b[0mtz\u001b[0m\u001b[0;34m=\u001b[0m\u001b[0mtime_zone\u001b[0m\u001b[0;34m,\u001b[0m \u001b[0mskip_errors\u001b[0m\u001b[0;34m=\u001b[0m\u001b[0mTrue\u001b[0m\u001b[0;34m)\u001b[0m\u001b[0;34m\u001b[0m\u001b[0m\n\u001b[0m",
      "\u001b[0;32m/home/orenled/Dropbox/code/openbadge-analysis/openbadge_analysis/preprocessing/metadata.pyc\u001b[0m in \u001b[0;36mvoltages\u001b[0;34m(fileobject, time_bins_size, tz, skip_errors)\u001b[0m\n\u001b[1;32m    128\u001b[0m     df = df.groupby([\n\u001b[1;32m    129\u001b[0m         \u001b[0mpd\u001b[0m\u001b[0;34m.\u001b[0m\u001b[0mTimeGrouper\u001b[0m\u001b[0;34m(\u001b[0m\u001b[0mtime_bins_size\u001b[0m\u001b[0;34m,\u001b[0m \u001b[0mkey\u001b[0m\u001b[0;34m=\u001b[0m\u001b[0;34m'datetime'\u001b[0m\u001b[0;34m)\u001b[0m\u001b[0;34m,\u001b[0m\u001b[0;34m\u001b[0m\u001b[0m\n\u001b[0;32m--> 130\u001b[0;31m         \u001b[0;34m'member'\u001b[0m\u001b[0;34m\u001b[0m\u001b[0m\n\u001b[0m\u001b[1;32m    131\u001b[0m     ]).mean()\n\u001b[1;32m    132\u001b[0m \u001b[0;34m\u001b[0m\u001b[0m\n",
      "\u001b[0;32m/home/orenled/.virtualenvs/openbadge-analysis-test-badge/local/lib/python2.7/site-packages/pandas/core/generic.pyc\u001b[0m in \u001b[0;36mgroupby\u001b[0;34m(self, by, axis, level, as_index, sort, group_keys, squeeze, **kwargs)\u001b[0m\n\u001b[1;32m   4414\u001b[0m         return groupby(self, by=by, axis=axis, level=level, as_index=as_index,\n\u001b[1;32m   4415\u001b[0m                        \u001b[0msort\u001b[0m\u001b[0;34m=\u001b[0m\u001b[0msort\u001b[0m\u001b[0;34m,\u001b[0m \u001b[0mgroup_keys\u001b[0m\u001b[0;34m=\u001b[0m\u001b[0mgroup_keys\u001b[0m\u001b[0;34m,\u001b[0m \u001b[0msqueeze\u001b[0m\u001b[0;34m=\u001b[0m\u001b[0msqueeze\u001b[0m\u001b[0;34m,\u001b[0m\u001b[0;34m\u001b[0m\u001b[0m\n\u001b[0;32m-> 4416\u001b[0;31m                        **kwargs)\n\u001b[0m\u001b[1;32m   4417\u001b[0m \u001b[0;34m\u001b[0m\u001b[0m\n\u001b[1;32m   4418\u001b[0m     def asfreq(self, freq, method=None, how=None, normalize=False,\n",
      "\u001b[0;32m/home/orenled/.virtualenvs/openbadge-analysis-test-badge/local/lib/python2.7/site-packages/pandas/core/groupby.pyc\u001b[0m in \u001b[0;36mgroupby\u001b[0;34m(obj, by, **kwds)\u001b[0m\n\u001b[1;32m   1697\u001b[0m         \u001b[0;32mraise\u001b[0m \u001b[0mTypeError\u001b[0m\u001b[0;34m(\u001b[0m\u001b[0;34m'invalid type: %s'\u001b[0m \u001b[0;34m%\u001b[0m \u001b[0mtype\u001b[0m\u001b[0;34m(\u001b[0m\u001b[0mobj\u001b[0m\u001b[0;34m)\u001b[0m\u001b[0;34m)\u001b[0m\u001b[0;34m\u001b[0m\u001b[0m\n\u001b[1;32m   1698\u001b[0m \u001b[0;34m\u001b[0m\u001b[0m\n\u001b[0;32m-> 1699\u001b[0;31m     \u001b[0;32mreturn\u001b[0m \u001b[0mklass\u001b[0m\u001b[0;34m(\u001b[0m\u001b[0mobj\u001b[0m\u001b[0;34m,\u001b[0m \u001b[0mby\u001b[0m\u001b[0;34m,\u001b[0m \u001b[0;34m**\u001b[0m\u001b[0mkwds\u001b[0m\u001b[0;34m)\u001b[0m\u001b[0;34m\u001b[0m\u001b[0m\n\u001b[0m\u001b[1;32m   1700\u001b[0m \u001b[0;34m\u001b[0m\u001b[0m\n\u001b[1;32m   1701\u001b[0m \u001b[0;34m\u001b[0m\u001b[0m\n",
      "\u001b[0;32m/home/orenled/.virtualenvs/openbadge-analysis-test-badge/local/lib/python2.7/site-packages/pandas/core/groupby.pyc\u001b[0m in \u001b[0;36m__init__\u001b[0;34m(self, obj, keys, axis, level, grouper, exclusions, selection, as_index, sort, group_keys, squeeze, **kwargs)\u001b[0m\n\u001b[1;32m    390\u001b[0m                                                     \u001b[0mlevel\u001b[0m\u001b[0;34m=\u001b[0m\u001b[0mlevel\u001b[0m\u001b[0;34m,\u001b[0m\u001b[0;34m\u001b[0m\u001b[0m\n\u001b[1;32m    391\u001b[0m                                                     \u001b[0msort\u001b[0m\u001b[0;34m=\u001b[0m\u001b[0msort\u001b[0m\u001b[0;34m,\u001b[0m\u001b[0;34m\u001b[0m\u001b[0m\n\u001b[0;32m--> 392\u001b[0;31m                                                     mutated=self.mutated)\n\u001b[0m\u001b[1;32m    393\u001b[0m \u001b[0;34m\u001b[0m\u001b[0m\n\u001b[1;32m    394\u001b[0m         \u001b[0mself\u001b[0m\u001b[0;34m.\u001b[0m\u001b[0mobj\u001b[0m \u001b[0;34m=\u001b[0m \u001b[0mobj\u001b[0m\u001b[0;34m\u001b[0m\u001b[0m\n",
      "\u001b[0;32m/home/orenled/.virtualenvs/openbadge-analysis-test-badge/local/lib/python2.7/site-packages/pandas/core/groupby.pyc\u001b[0m in \u001b[0;36m_get_grouper\u001b[0;34m(obj, key, axis, level, sort, mutated)\u001b[0m\n\u001b[1;32m   2709\u001b[0m                         \u001b[0msort\u001b[0m\u001b[0;34m=\u001b[0m\u001b[0msort\u001b[0m\u001b[0;34m,\u001b[0m\u001b[0;34m\u001b[0m\u001b[0m\n\u001b[1;32m   2710\u001b[0m                         in_axis=in_axis) \\\n\u001b[0;32m-> 2711\u001b[0;31m             \u001b[0;32mif\u001b[0m \u001b[0;32mnot\u001b[0m \u001b[0misinstance\u001b[0m\u001b[0;34m(\u001b[0m\u001b[0mgpr\u001b[0m\u001b[0;34m,\u001b[0m \u001b[0mGrouping\u001b[0m\u001b[0;34m)\u001b[0m \u001b[0;32melse\u001b[0m \u001b[0mgpr\u001b[0m\u001b[0;34m\u001b[0m\u001b[0m\n\u001b[0m\u001b[1;32m   2712\u001b[0m \u001b[0;34m\u001b[0m\u001b[0m\n\u001b[1;32m   2713\u001b[0m         \u001b[0mgroupings\u001b[0m\u001b[0;34m.\u001b[0m\u001b[0mappend\u001b[0m\u001b[0;34m(\u001b[0m\u001b[0mping\u001b[0m\u001b[0;34m)\u001b[0m\u001b[0;34m\u001b[0m\u001b[0m\n",
      "\u001b[0;32m/home/orenled/.virtualenvs/openbadge-analysis-test-badge/local/lib/python2.7/site-packages/pandas/core/groupby.pyc\u001b[0m in \u001b[0;36m__init__\u001b[0;34m(self, index, grouper, obj, name, level, sort, in_axis)\u001b[0m\n\u001b[1;32m   2475\u001b[0m \u001b[0;34m\u001b[0m\u001b[0m\n\u001b[1;32m   2476\u001b[0m                 \u001b[0;31m# get the new grouper\u001b[0m\u001b[0;34m\u001b[0m\u001b[0;34m\u001b[0m\u001b[0m\n\u001b[0;32m-> 2477\u001b[0;31m                 \u001b[0mgrouper\u001b[0m \u001b[0;34m=\u001b[0m \u001b[0mself\u001b[0m\u001b[0;34m.\u001b[0m\u001b[0mgrouper\u001b[0m\u001b[0;34m.\u001b[0m\u001b[0m_get_binner_for_grouping\u001b[0m\u001b[0;34m(\u001b[0m\u001b[0mself\u001b[0m\u001b[0;34m.\u001b[0m\u001b[0mobj\u001b[0m\u001b[0;34m)\u001b[0m\u001b[0;34m\u001b[0m\u001b[0m\n\u001b[0m\u001b[1;32m   2478\u001b[0m                 \u001b[0mself\u001b[0m\u001b[0;34m.\u001b[0m\u001b[0mobj\u001b[0m \u001b[0;34m=\u001b[0m \u001b[0mself\u001b[0m\u001b[0;34m.\u001b[0m\u001b[0mgrouper\u001b[0m\u001b[0;34m.\u001b[0m\u001b[0mobj\u001b[0m\u001b[0;34m\u001b[0m\u001b[0m\n\u001b[1;32m   2479\u001b[0m                 \u001b[0mself\u001b[0m\u001b[0;34m.\u001b[0m\u001b[0mgrouper\u001b[0m \u001b[0;34m=\u001b[0m \u001b[0mgrouper\u001b[0m\u001b[0;34m\u001b[0m\u001b[0m\n",
      "\u001b[0;32m/home/orenled/.virtualenvs/openbadge-analysis-test-badge/local/lib/python2.7/site-packages/pandas/core/resample.pyc\u001b[0m in \u001b[0;36m_get_binner_for_grouping\u001b[0;34m(self, obj)\u001b[0m\n\u001b[1;32m   1104\u001b[0m \u001b[0;34m\u001b[0m\u001b[0m\n\u001b[1;32m   1105\u001b[0m         \u001b[0ml\u001b[0m \u001b[0;34m=\u001b[0m \u001b[0;34m[\u001b[0m\u001b[0;34m]\u001b[0m\u001b[0;34m\u001b[0m\u001b[0m\n\u001b[0;32m-> 1106\u001b[0;31m         \u001b[0;32mfor\u001b[0m \u001b[0mkey\u001b[0m\u001b[0;34m,\u001b[0m \u001b[0mgroup\u001b[0m \u001b[0;32min\u001b[0m \u001b[0mgrouper\u001b[0m\u001b[0;34m.\u001b[0m\u001b[0mget_iterator\u001b[0m\u001b[0;34m(\u001b[0m\u001b[0mself\u001b[0m\u001b[0;34m.\u001b[0m\u001b[0max\u001b[0m\u001b[0;34m)\u001b[0m\u001b[0;34m:\u001b[0m\u001b[0;34m\u001b[0m\u001b[0m\n\u001b[0m\u001b[1;32m   1107\u001b[0m             \u001b[0ml\u001b[0m\u001b[0;34m.\u001b[0m\u001b[0mextend\u001b[0m\u001b[0;34m(\u001b[0m\u001b[0;34m[\u001b[0m\u001b[0mkey\u001b[0m\u001b[0;34m]\u001b[0m \u001b[0;34m*\u001b[0m \u001b[0mlen\u001b[0m\u001b[0;34m(\u001b[0m\u001b[0mgroup\u001b[0m\u001b[0;34m)\u001b[0m\u001b[0;34m)\u001b[0m\u001b[0;34m\u001b[0m\u001b[0m\n\u001b[1;32m   1108\u001b[0m \u001b[0;34m\u001b[0m\u001b[0m\n",
      "\u001b[0;32m/home/orenled/.virtualenvs/openbadge-analysis-test-badge/local/lib/python2.7/site-packages/pandas/core/groupby.pyc\u001b[0m in \u001b[0;36mget_iterator\u001b[0;34m(self, data, axis)\u001b[0m\n\u001b[1;32m   2319\u001b[0m         \u001b[0;32mfor\u001b[0m \u001b[0medge\u001b[0m\u001b[0;34m,\u001b[0m \u001b[0mlabel\u001b[0m \u001b[0;32min\u001b[0m \u001b[0mzip\u001b[0m\u001b[0;34m(\u001b[0m\u001b[0mself\u001b[0m\u001b[0;34m.\u001b[0m\u001b[0mbins\u001b[0m\u001b[0;34m,\u001b[0m \u001b[0mself\u001b[0m\u001b[0;34m.\u001b[0m\u001b[0mbinlabels\u001b[0m\u001b[0;34m)\u001b[0m\u001b[0;34m:\u001b[0m\u001b[0;34m\u001b[0m\u001b[0m\n\u001b[1;32m   2320\u001b[0m             \u001b[0;32mif\u001b[0m \u001b[0mlabel\u001b[0m \u001b[0;32mis\u001b[0m \u001b[0;32mnot\u001b[0m \u001b[0mNaT\u001b[0m\u001b[0;34m:\u001b[0m\u001b[0;34m\u001b[0m\u001b[0m\n\u001b[0;32m-> 2321\u001b[0;31m                 \u001b[0;32myield\u001b[0m \u001b[0mlabel\u001b[0m\u001b[0;34m,\u001b[0m \u001b[0mslicer\u001b[0m\u001b[0;34m(\u001b[0m\u001b[0mstart\u001b[0m\u001b[0;34m,\u001b[0m \u001b[0medge\u001b[0m\u001b[0;34m)\u001b[0m\u001b[0;34m\u001b[0m\u001b[0m\n\u001b[0m\u001b[1;32m   2322\u001b[0m             \u001b[0mstart\u001b[0m \u001b[0;34m=\u001b[0m \u001b[0medge\u001b[0m\u001b[0;34m\u001b[0m\u001b[0m\n\u001b[1;32m   2323\u001b[0m \u001b[0;34m\u001b[0m\u001b[0m\n",
      "\u001b[0;32m/home/orenled/.virtualenvs/openbadge-analysis-test-badge/local/lib/python2.7/site-packages/pandas/core/groupby.pyc\u001b[0m in \u001b[0;36m<lambda>\u001b[0;34m(start, edge)\u001b[0m\n\u001b[1;32m   2313\u001b[0m             \u001b[0mlength\u001b[0m \u001b[0;34m=\u001b[0m \u001b[0mlen\u001b[0m\u001b[0;34m(\u001b[0m\u001b[0mdata\u001b[0m\u001b[0;34m.\u001b[0m\u001b[0maxes\u001b[0m\u001b[0;34m[\u001b[0m\u001b[0maxis\u001b[0m\u001b[0;34m]\u001b[0m\u001b[0;34m)\u001b[0m\u001b[0;34m\u001b[0m\u001b[0m\n\u001b[1;32m   2314\u001b[0m         \u001b[0;32melse\u001b[0m\u001b[0;34m:\u001b[0m\u001b[0;34m\u001b[0m\u001b[0m\n\u001b[0;32m-> 2315\u001b[0;31m             \u001b[0mslicer\u001b[0m \u001b[0;34m=\u001b[0m \u001b[0;32mlambda\u001b[0m \u001b[0mstart\u001b[0m\u001b[0;34m,\u001b[0m \u001b[0medge\u001b[0m\u001b[0;34m:\u001b[0m \u001b[0mdata\u001b[0m\u001b[0;34m[\u001b[0m\u001b[0mslice\u001b[0m\u001b[0;34m(\u001b[0m\u001b[0mstart\u001b[0m\u001b[0;34m,\u001b[0m \u001b[0medge\u001b[0m\u001b[0;34m)\u001b[0m\u001b[0;34m]\u001b[0m\u001b[0;34m\u001b[0m\u001b[0m\n\u001b[0m\u001b[1;32m   2316\u001b[0m             \u001b[0mlength\u001b[0m \u001b[0;34m=\u001b[0m \u001b[0mlen\u001b[0m\u001b[0;34m(\u001b[0m\u001b[0mdata\u001b[0m\u001b[0;34m)\u001b[0m\u001b[0;34m\u001b[0m\u001b[0m\n\u001b[1;32m   2317\u001b[0m \u001b[0;34m\u001b[0m\u001b[0m\n",
      "\u001b[0;32m/home/orenled/.virtualenvs/openbadge-analysis-test-badge/local/lib/python2.7/site-packages/pandas/core/indexes/datetimelike.pyc\u001b[0m in \u001b[0;36m__getitem__\u001b[0;34m(self, key)\u001b[0m\n\u001b[1;32m    302\u001b[0m                 \u001b[0;32mreturn\u001b[0m \u001b[0mresult\u001b[0m\u001b[0;34m\u001b[0m\u001b[0m\n\u001b[1;32m    303\u001b[0m \u001b[0;34m\u001b[0m\u001b[0m\n\u001b[0;32m--> 304\u001b[0;31m             \u001b[0;32mreturn\u001b[0m \u001b[0mself\u001b[0m\u001b[0;34m.\u001b[0m\u001b[0m_simple_new\u001b[0m\u001b[0;34m(\u001b[0m\u001b[0mresult\u001b[0m\u001b[0;34m,\u001b[0m \u001b[0;34m**\u001b[0m\u001b[0mattribs\u001b[0m\u001b[0;34m)\u001b[0m\u001b[0;34m\u001b[0m\u001b[0m\n\u001b[0m\u001b[1;32m    305\u001b[0m \u001b[0;34m\u001b[0m\u001b[0m\n\u001b[1;32m    306\u001b[0m     \u001b[0;34m@\u001b[0m\u001b[0mproperty\u001b[0m\u001b[0;34m\u001b[0m\u001b[0m\n",
      "\u001b[0;32m/home/orenled/.virtualenvs/openbadge-analysis-test-badge/local/lib/python2.7/site-packages/pandas/core/indexes/datetimes.pyc\u001b[0m in \u001b[0;36m_simple_new\u001b[0;34m(cls, values, name, freq, tz, dtype, **kwargs)\u001b[0m\n\u001b[1;32m    582\u001b[0m             \u001b[0mvalues\u001b[0m \u001b[0;34m=\u001b[0m \u001b[0mnp\u001b[0m\u001b[0;34m.\u001b[0m\u001b[0marray\u001b[0m\u001b[0;34m(\u001b[0m\u001b[0mvalues\u001b[0m\u001b[0;34m,\u001b[0m \u001b[0mcopy\u001b[0m\u001b[0;34m=\u001b[0m\u001b[0mFalse\u001b[0m\u001b[0;34m)\u001b[0m\u001b[0;34m\u001b[0m\u001b[0m\n\u001b[1;32m    583\u001b[0m \u001b[0;34m\u001b[0m\u001b[0m\n\u001b[0;32m--> 584\u001b[0;31m         \u001b[0;32mif\u001b[0m \u001b[0mis_object_dtype\u001b[0m\u001b[0;34m(\u001b[0m\u001b[0mvalues\u001b[0m\u001b[0;34m)\u001b[0m\u001b[0;34m:\u001b[0m\u001b[0;34m\u001b[0m\u001b[0m\n\u001b[0m\u001b[1;32m    585\u001b[0m             return cls(values, name=name, freq=freq, tz=tz,\n\u001b[1;32m    586\u001b[0m                        dtype=dtype, **kwargs).values\n",
      "\u001b[0;32m/home/orenled/.virtualenvs/openbadge-analysis-test-badge/local/lib/python2.7/site-packages/pandas/core/dtypes/common.pyc\u001b[0m in \u001b[0;36mis_object_dtype\u001b[0;34m(arr_or_dtype)\u001b[0m\n\u001b[1;32m    111\u001b[0m     \u001b[0;32mif\u001b[0m \u001b[0marr_or_dtype\u001b[0m \u001b[0;32mis\u001b[0m \u001b[0mNone\u001b[0m\u001b[0;34m:\u001b[0m\u001b[0;34m\u001b[0m\u001b[0m\n\u001b[1;32m    112\u001b[0m         \u001b[0;32mreturn\u001b[0m \u001b[0mFalse\u001b[0m\u001b[0;34m\u001b[0m\u001b[0m\n\u001b[0;32m--> 113\u001b[0;31m     \u001b[0mtipo\u001b[0m \u001b[0;34m=\u001b[0m \u001b[0m_get_dtype_type\u001b[0m\u001b[0;34m(\u001b[0m\u001b[0marr_or_dtype\u001b[0m\u001b[0;34m)\u001b[0m\u001b[0;34m\u001b[0m\u001b[0m\n\u001b[0m\u001b[1;32m    114\u001b[0m     \u001b[0;32mreturn\u001b[0m \u001b[0missubclass\u001b[0m\u001b[0;34m(\u001b[0m\u001b[0mtipo\u001b[0m\u001b[0;34m,\u001b[0m \u001b[0mnp\u001b[0m\u001b[0;34m.\u001b[0m\u001b[0mobject_\u001b[0m\u001b[0;34m)\u001b[0m\u001b[0;34m\u001b[0m\u001b[0m\n\u001b[1;32m    115\u001b[0m \u001b[0;34m\u001b[0m\u001b[0m\n",
      "\u001b[0;32m/home/orenled/.virtualenvs/openbadge-analysis-test-badge/local/lib/python2.7/site-packages/pandas/core/dtypes/common.pyc\u001b[0m in \u001b[0;36m_get_dtype_type\u001b[0;34m(arr_or_dtype)\u001b[0m\n\u001b[1;32m   1742\u001b[0m     \u001b[0;32melif\u001b[0m \u001b[0misinstance\u001b[0m\u001b[0;34m(\u001b[0m\u001b[0marr_or_dtype\u001b[0m\u001b[0;34m,\u001b[0m \u001b[0mCategoricalDtype\u001b[0m\u001b[0;34m)\u001b[0m\u001b[0;34m:\u001b[0m\u001b[0;34m\u001b[0m\u001b[0m\n\u001b[1;32m   1743\u001b[0m         \u001b[0;32mreturn\u001b[0m \u001b[0mCategoricalDtypeType\u001b[0m\u001b[0;34m\u001b[0m\u001b[0m\n\u001b[0;32m-> 1744\u001b[0;31m     \u001b[0;32melif\u001b[0m \u001b[0misinstance\u001b[0m\u001b[0;34m(\u001b[0m\u001b[0marr_or_dtype\u001b[0m\u001b[0;34m,\u001b[0m \u001b[0mDatetimeTZDtype\u001b[0m\u001b[0;34m)\u001b[0m\u001b[0;34m:\u001b[0m\u001b[0;34m\u001b[0m\u001b[0m\n\u001b[0m\u001b[1;32m   1745\u001b[0m         \u001b[0;32mreturn\u001b[0m \u001b[0mDatetimeTZDtypeType\u001b[0m\u001b[0;34m\u001b[0m\u001b[0m\n\u001b[1;32m   1746\u001b[0m     \u001b[0;32melif\u001b[0m \u001b[0misinstance\u001b[0m\u001b[0;34m(\u001b[0m\u001b[0marr_or_dtype\u001b[0m\u001b[0;34m,\u001b[0m \u001b[0mIntervalDtype\u001b[0m\u001b[0;34m)\u001b[0m\u001b[0;34m:\u001b[0m\u001b[0;34m\u001b[0m\u001b[0m\n",
      "\u001b[0;31mKeyboardInterrupt\u001b[0m: "
     ]
    }
   ],
   "source": [
    "print(\"Loading voltage data (from proximity records)\")\n",
    "with gzip.open(proximity_filename, 'r') as f:\n",
    "    voltages = ob.preprocessing.voltages(f, time_bins_size, tz=time_zone, skip_errors=True)"
   ]
  },
  {
   "cell_type": "code",
   "execution_count": null,
   "metadata": {},
   "outputs": [],
   "source": [
    "print(\"Loading sample counts for proximity\")\n",
    "with gzip.open(proximity_filename, 'r') as f:\n",
    "    proximity_sample_counts = ob.preprocessing.sample_counts(f, tz=time_zone, skip_errors=True)\n",
    "\n",
    "print(\"Loading sample counts for audio\")\n",
    "with gzip.open(audio_filename, 'r') as f:\n",
    "    audio_sample_counts = ob.preprocessing.sample_counts(f, tz=time_zone)\n"
   ]
  },
  {
   "cell_type": "code",
   "execution_count": null,
   "metadata": {},
   "outputs": [],
   "source": [
    "print(\"Loading reset data\")\n",
    "with gzip.open(hublog_filename, 'r') as f:\n",
    "    resets = ob.preprocessing.hublog_resets(f, log_tz = hublog_time_zone, tz=time_zone)\n",
    "\n",
    "print(\"Loading clock sync data\")\n",
    "with gzip.open(hublog_filename, 'r') as f:\n",
    "    clock_syncs = ob.preprocessing.hublog_clock_syncs(f, log_tz = hublog_time_zone, tz=time_zone)"
   ]
  },
  {
   "cell_type": "code",
   "execution_count": null,
   "metadata": {},
   "outputs": [],
   "source": [
    "# starting time\n",
    "first_date = resets.index.get_level_values('datetime').min()\n",
    "first_date"
   ]
  },
  {
   "cell_type": "code",
   "execution_count": null,
   "metadata": {},
   "outputs": [],
   "source": [
    "def to_relative_datetime(data):\n",
    "    \"\"\" switch to relative time (since experiment started) \"\"\"\n",
    "    realtive_time = data.reset_index().copy()\n",
    "    realtive_time['datetime'] = realtive_time['datetime'] - first_date\n",
    "    realtive_time['day'] = realtive_time['datetime']/pd.Timedelta(days=1)\n",
    "    return realtive_time"
   ]
  },
  {
   "cell_type": "markdown",
   "metadata": {},
   "source": [
    "# Cleanup\n",
    "Sometimes we get some records from the future or past. It's a bug, but it's so uncommon that we haven't found the reason yet\n"
   ]
  },
  {
   "cell_type": "code",
   "execution_count": null,
   "metadata": {},
   "outputs": [],
   "source": [
    "time_slice = slice('2018-01-01 00:00:00', '2018-05-10 00:00:00')\n",
    "\n",
    "resets = resets.loc[time_slice, :]\n",
    "voltages = voltages.loc[time_slice, :]\n",
    "\n",
    "proximity_sample_counts.reset_index(level=1,inplace=True)\n",
    "proximity_sample_counts = proximity_sample_counts.loc[time_slice, :]\n",
    "proximity_sample_counts.set_index('member', append=True, inplace=True)\n",
    "\n",
    "audio_sample_counts.reset_index(level=1,inplace=True)\n",
    "audio_sample_counts = audio_sample_counts.loc[time_slice, :]\n",
    "audio_sample_counts.set_index('member', append=True, inplace=True)\n",
    "\n",
    "clock_syncs = clock_syncs.loc[time_slice, :]"
   ]
  },
  {
   "cell_type": "markdown",
   "metadata": {},
   "source": [
    "# Split into two groups"
   ]
  },
  {
   "cell_type": "code",
   "execution_count": null,
   "metadata": {},
   "outputs": [],
   "source": [
    "import json\n",
    "def mac_to_key_mapping(fileobject):\n",
    "    def readfile(fileobject):\n",
    "        i = 0\n",
    "        for line in fileobject:\n",
    "            i = i + 1\n",
    "            try:\n",
    "                data = json.loads(line)['data']\n",
    "                yield (str(data['badge_address']),\n",
    "                       str(data['member']))\n",
    "            except:\n",
    "                print(\"Error in line#:\", i, line)\n",
    "                continue\n",
    "            \n",
    "    df = pd.DataFrame(readfile(fileobject), columns=['mac', 'member'])\n",
    "    df = df.groupby(['mac','member']).count().reset_index()\n",
    "    return df\n",
    "\n",
    "with gzip.open(proximity_filename, 'r') as f:\n",
    "    mac_to_key = mac_to_key_mapping(f)"
   ]
  },
  {
   "cell_type": "code",
   "execution_count": null,
   "metadata": {},
   "outputs": [],
   "source": [
    "mac_to_key"
   ]
  },
  {
   "cell_type": "code",
   "execution_count": null,
   "metadata": {},
   "outputs": [],
   "source": [
    "type_a = [\n",
    "#    'FF:89:FF:66:48:E6',\n",
    "#    'C1:5F:E7:20:36:70',\n",
    "#    'C5:0E:A8:0B:48:16',\n",
    "#    'E1:5F:6D:4B:B1:15',\n",
    "    ]\n",
    "\n",
    "type_b = [\n",
    "]"
   ]
  },
  {
   "cell_type": "code",
   "execution_count": null,
   "metadata": {},
   "outputs": [],
   "source": [
    "mac_to_key_with_type = mac_to_key.copy()\n",
    "mac_to_key_with_type.loc[~mac_to_key_with_type.mac.isin(type_b),'type'] = 'b'\n",
    "mac_to_key_with_type.loc[mac_to_key_with_type.mac.isin(type_a),'type'] = 'a'\n",
    "mac_to_key_with_type.head()"
   ]
  },
  {
   "cell_type": "code",
   "execution_count": null,
   "metadata": {},
   "outputs": [],
   "source": [
    "mac_to_key_with_type.describe()"
   ]
  },
  {
   "cell_type": "markdown",
   "metadata": {
    "collapsed": true
   },
   "source": [
    "# Voltage\n",
    "Here we simply show the voltages of all the badges in the test. This helps us check how long they run and how fast the battery is deplated."
   ]
  },
  {
   "cell_type": "code",
   "execution_count": null,
   "metadata": {},
   "outputs": [],
   "source": [
    "# Down sample\n",
    "voltages_down = voltages.groupby([pd.TimeGrouper('300S', level='datetime'), 'member']).mean()"
   ]
  },
  {
   "cell_type": "code",
   "execution_count": null,
   "metadata": {},
   "outputs": [],
   "source": [
    "# Relative time\n",
    "voltages_realtive_time = to_relative_datetime(voltages_down)"
   ]
  },
  {
   "cell_type": "code",
   "execution_count": null,
   "metadata": {},
   "outputs": [],
   "source": [
    "print(voltages_realtive_time.dtypes)\n",
    "voltages_realtive_time.head()"
   ]
  },
  {
   "cell_type": "code",
   "execution_count": null,
   "metadata": {},
   "outputs": [],
   "source": [
    "voltages_realtive_time = voltages_realtive_time.join(mac_to_key_with_type.set_index('member'), on='member')"
   ]
  },
  {
   "cell_type": "code",
   "execution_count": null,
   "metadata": {},
   "outputs": [],
   "source": [
    "%%R -i a_only\n",
    "data <- a_only\n",
    "#data$datetime <- as.POSIXct(data$datetime, tz = timezone)\n",
    "\n",
    "ggplot(data, aes(x = day, y = voltage, color =member)) +\n",
    "    geom_line(size=0.1) +\n",
    "    labs(title=\"Badge Voltage\", x=\"Day\", y=\"Voltage\") +\n",
    "    rh_theme +\n",
    "    scale_colour_brewer(palette = \"Set1\") +\n",
    "    theme(\n",
    "        legend.title=element_text(size=10) ,\n",
    "        legend.text=element_text(size=15)\n",
    "        )"
   ]
  },
  {
   "cell_type": "code",
   "execution_count": null,
   "metadata": {},
   "outputs": [],
   "source": [
    "'''\n",
    "%%R -i voltages_realtive_time  -w 50 -h 80 --units in -r 200\n",
    "data <- voltages_realtive_time\n",
    "#data$datetime <- as.POSIXct(data$datetime, tz = timezone)\n",
    "\n",
    "ggplot(data, aes(x = day, y = voltage, fill =member)) +\n",
    "    geom_violin(size=0.1) +\n",
    "    labs(title=\"Badge Voltage\", x=\"Day\", y=\"Voltage\") +\n",
    "    facet_wrap(~member, ncol = 5) +\n",
    "    #rh_theme +\n",
    "    scale_colour_brewer(palette = \"Set1\") \n",
    "    #theme(legend.position=\"none\")\n",
    "'''"
   ]
  },
  {
   "cell_type": "markdown",
   "metadata": {
    "collapsed": true
   },
   "source": [
    "# Resets\n",
    "Here we look at \"reset events\" - when the hub sends the date the a badge, and the badge did not have a date set already. This means that the badge was either just turned on, or was reset. We expect to see a reset when the badge was first turned on, and we don't expect to see any resest until the voltages drop below 2.4v or so"
   ]
  },
  {
   "cell_type": "code",
   "execution_count": null,
   "metadata": {},
   "outputs": [],
   "source": [
    "resets_down = resets.copy()\n",
    "resets_down['cnt'] = 1\n",
    "resets_down = resets_down.groupby([pd.TimeGrouper('30min', level='datetime'), 'mac']).count()\n",
    "resets_down.head(1)"
   ]
  },
  {
   "cell_type": "code",
   "execution_count": null,
   "metadata": {},
   "outputs": [],
   "source": [
    "# switch to relative time (since experiment started)\n",
    "resets_realtive_time = to_relative_datetime(resets_down)\n",
    "resets_realtive_time.head()"
   ]
  },
  {
   "cell_type": "code",
   "execution_count": null,
   "metadata": {},
   "outputs": [],
   "source": [
    "resets_realtive_time = resets_realtive_time.join(mac_to_key_with_type.set_index('mac'), on='mac')"
   ]
  },
  {
   "cell_type": "code",
   "execution_count": null,
   "metadata": {},
   "outputs": [],
   "source": [
    "%%R -i resets_realtive_time -w 5 -h 10 --units in -r 200\n",
    "data <- resets_realtive_time\n",
    "#data$datetime <- as.POSIXct(data$datetime, tz = timezone)\n",
    "\n",
    "ggplot(data, aes(x = day, y = cnt, color = mac)) +\n",
    "    geom_point(size=0.2, position = \"jitter\") +\n",
    "    labs(title=\"Badge Resets\", x=\"Day\", y=\"Resets\") +\n",
    "    facet_wrap(~type, nrow = 1) +\n",
    "    rh_theme +\n",
    "    scale_colour_brewer(palette = \"Set1\") +\n",
    "    theme(legend.position=\"none\")"
   ]
  },
  {
   "cell_type": "markdown",
   "metadata": {},
   "source": [
    "# First resets\n",
    "The first time a badge was reset (after starting)"
   ]
  },
  {
   "cell_type": "code",
   "execution_count": null,
   "metadata": {},
   "outputs": [],
   "source": [
    "df = pd.DataFrame([[1, np.nan], [1, 4], [5, 6]], columns=['A', 'B'])\n",
    "g = df.groupby('A').nth(0)\n",
    "df"
   ]
  },
  {
   "cell_type": "code",
   "execution_count": null,
   "metadata": {},
   "outputs": [],
   "source": [
    "first_reset = resets.copy().reset_index()\n",
    "first_reset = first_reset.groupby('mac').nth(1) # second reset. #0 is the first \"reset\" which is actually the first time the badge got a date from the server"
   ]
  },
  {
   "cell_type": "code",
   "execution_count": null,
   "metadata": {},
   "outputs": [],
   "source": [
    "first_reset"
   ]
  },
  {
   "cell_type": "code",
   "execution_count": null,
   "metadata": {},
   "outputs": [],
   "source": [
    "# switch to relative time (since experiment started)\n",
    "first_reset_realtive_time = to_relative_datetime(first_reset)\n",
    "first_reset_realtive_time.head()"
   ]
  },
  {
   "cell_type": "code",
   "execution_count": null,
   "metadata": {},
   "outputs": [],
   "source": [
    "%%R -i first_reset_realtive_time -w 5 -h 3 --units in -r 200\n",
    "data <- first_reset_realtive_time\n",
    "#data$datetime <- as.POSIXct(data$datetime, tz = timezone)\n",
    "\n",
    "ggplot(data, aes(x = day, y = 1, color = mac)) +\n",
    "    geom_point(size=0.2, position = \"jitter\") +\n",
    "    labs(title=\"Badge first reset\", x=\"Day\", y=\"Dummy value\") +\n",
    "    rh_theme +\n",
    "    theme(legend.position=\"none\")"
   ]
  },
  {
   "cell_type": "markdown",
   "metadata": {},
   "source": [
    "# Proximity sample counts"
   ]
  },
  {
   "cell_type": "code",
   "execution_count": null,
   "metadata": {},
   "outputs": [],
   "source": [
    "# Down sample\n",
    "proximity_sample_counts_down = proximity_sample_counts.copy()\n",
    "proximity_sample_counts_down = proximity_sample_counts_down.groupby([pd.TimeGrouper('30min', level='datetime'), 'member']).mean()\n",
    "proximity_sample_counts_down.head(1)\n",
    "\n",
    "# switch to relative time (since experiment started)\n",
    "proximity_sample_counts_realtive_time = to_relative_datetime(proximity_sample_counts_down)\n",
    "proximity_sample_counts_realtive_time.head()"
   ]
  },
  {
   "cell_type": "code",
   "execution_count": null,
   "metadata": {},
   "outputs": [],
   "source": [
    "%%R -i proximity_sample_counts_realtive_time -w 5 -h 80 --units in -r 200\n",
    "data <- proximity_sample_counts_realtive_time\n",
    "#data$datetime <- as.POSIXct(data$datetime, tz = timezone)\n",
    "\n",
    "ggplot(data, aes(x = day, y = cnt, color =member)) +\n",
    "    geom_line(size=0.2) +\n",
    "    facet_wrap( ~ member, ncol=1)+\n",
    "    labs(title=\"Proximity count\", x=\"Day\", y=\"Count\") +\n",
    "    rh_theme +\n",
    "    theme(legend.position=\"none\")"
   ]
  },
  {
   "cell_type": "markdown",
   "metadata": {},
   "source": [
    "# Audio records count\n",
    "For audio, we can't simply down sample. At least for the current version, we might get a \"partial\" record (less than 114 samples), and later the full version of the record. We'll therefore remove the duplications (using group by), and then resample and fill NaN with zeros in order to find gaps. We use a 10S window since every record represents 5.7 seconds of data, and we want to make sure not to create zero counts when there is no need to."
   ]
  },
  {
   "cell_type": "code",
   "execution_count": null,
   "metadata": {},
   "outputs": [],
   "source": [
    "audio_sample_counts_down = audio_sample_counts.copy()"
   ]
  },
  {
   "cell_type": "code",
   "execution_count": null,
   "metadata": {},
   "outputs": [],
   "source": [
    "# Removing records so I can test what happens when there is missing data\n",
    "#s = slice('2017-12-02 16:55:20', '2017-12-02 16:55:40')\n",
    "#audio_sample_counts_down.drop(audio_sample_counts_down.loc[(s, slice(None), slice(None)), :].index, inplace=True)\n",
    "#print(len(audio_sample_counts))\n",
    "#print(len(audio_sample_counts_down))"
   ]
  },
  {
   "cell_type": "code",
   "execution_count": null,
   "metadata": {},
   "outputs": [],
   "source": [
    "# If there are duplicates, choose the record with the most samples (that's a complete record)\n",
    "audio_sample_counts_down = audio_sample_counts_down.groupby(['datetime', 'member']).max()\n",
    "\n",
    "# Put 0's if there is missing data\n",
    "audio_sample_counts_down = audio_sample_counts_down.unstack(level=[1]).resample('10S').min().fillna(0).stack(level=[1])"
   ]
  },
  {
   "cell_type": "code",
   "execution_count": null,
   "metadata": {},
   "outputs": [],
   "source": [
    "# If removed records for testing, are there 0's there now?\n",
    "#audio_counts_down.loc[(s, slice(None), slice(None)), :]"
   ]
  },
  {
   "cell_type": "code",
   "execution_count": null,
   "metadata": {},
   "outputs": [],
   "source": [
    "# Down sample\n",
    "audio_sample_counts_down = audio_sample_counts_down.unstack(level=[1]).resample('1min').min().stack(level=[1])\n",
    "audio_sample_counts_realtive_time = audio_sample_counts_down.reset_index()"
   ]
  },
  {
   "cell_type": "code",
   "execution_count": null,
   "metadata": {},
   "outputs": [],
   "source": [
    "%%R -i audio_sample_counts_realtive_time -w 5 -h 80 --units in -r 200\n",
    "data <- audio_sample_counts_realtive_time\n",
    "data$datetime <- as.POSIXct(data$datetime, tz = timezone)\n",
    "\n",
    "ggplot(data, aes(x = datetime, y = cnt, color = member)) +\n",
    "    geom_line(size=0.2) +\n",
    "    facet_wrap( ~ member, ncol=1)+\n",
    "    labs(title=\"Audio count\", x=\"Day\", y=\"Count\") +\n",
    "    rh_theme +\n",
    "    theme(legend.position=\"none\")"
   ]
  },
  {
   "cell_type": "markdown",
   "metadata": {},
   "source": [
    "# Gaps in proximity data\n",
    "Here we look for gaps in proximity data. We expect to see gaps of 60 seconds between scans (or less/more, depending on the settings used). If it's higher than that, then there's a gap."
   ]
  },
  {
   "cell_type": "code",
   "execution_count": null,
   "metadata": {},
   "outputs": [],
   "source": [
    "proximity_sample_counts_shift = proximity_sample_counts.copy().reset_index()\n",
    "proximity_sample_counts_shift['lag_datetime'] = proximity_sample_counts_shift.groupby(['member'])['datetime'].shift(1)\n",
    "proximity_sample_counts_shift['lag_datetime'] = proximity_sample_counts_shift['lag_datetime'].dt.tz_localize('UTC').dt.tz_convert(time_zone)\n",
    "proximity_sample_counts_shift['time_diff_sec']= (proximity_sample_counts_shift['datetime']-proximity_sample_counts_shift['lag_datetime']) / np.timedelta64(1, 's')\n",
    "\n",
    "# Down sample\n",
    "proximity_sample_counts_shift.set_index('datetime', inplace=True)\n",
    "proximity_sample_counts_shift_down = proximity_sample_counts_shift.groupby([pd.TimeGrouper('30min', level='datetime'), 'member']).max()\n",
    "\n",
    "# switch to relative time (since experiment started)\n",
    "proximity_sample_counts_shift_realtive_time = to_relative_datetime(proximity_sample_counts_shift_down)\n",
    "proximity_sample_counts_shift_realtive_time.head()"
   ]
  },
  {
   "cell_type": "code",
   "execution_count": null,
   "metadata": {},
   "outputs": [],
   "source": [
    "%%R -i proximity_sample_counts_shift_realtive_time -w 5 -h 80 --units in -r 200\n",
    "data <- proximity_sample_counts_shift_realtive_time\n",
    "#data$datetime <- as.POSIXct(data$datetime, tz = timezone)\n",
    "\n",
    "ggplot(data, aes(x = day, y = time_diff_sec, color = member)) +\n",
    "    geom_line(size=0.2) +\n",
    "    facet_wrap( ~ member, ncol=1)+\n",
    "    labs(title=\"Gaps in proximity data\", x=\"Day\", y=\"Time diff (Sec)\") +\n",
    "    scale_y_continuous(limits = c(0, 180)) +\n",
    "    rh_theme +\n",
    "    theme(legend.position=\"none\")"
   ]
  },
  {
   "cell_type": "markdown",
   "metadata": {},
   "source": [
    "# Gaps in audio data\n",
    "Here we look for gaps in audio data. We expect to see gaps of 5.7 seconds between records (each record represents 114 samples of 50 ms each). If it's higher than that, then there's a gap."
   ]
  },
  {
   "cell_type": "code",
   "execution_count": null,
   "metadata": {},
   "outputs": [],
   "source": [
    "audio_sample_counts_shift = audio_sample_counts.copy().reset_index()\n",
    "audio_sample_counts_shift['lag_datetime'] = audio_sample_counts_shift.groupby(['member'])['datetime'].shift(1)\n",
    "audio_sample_counts_shift['lag_datetime'] = audio_sample_counts_shift['lag_datetime'].dt.tz_localize('UTC').dt.tz_convert(time_zone)\n",
    "audio_sample_counts_shift['time_diff_sec']= (audio_sample_counts_shift['datetime']-audio_sample_counts_shift['lag_datetime']) / np.timedelta64(1, 's')\n",
    "\n",
    "# Down sample\n",
    "audio_sample_counts_shift.set_index('datetime', inplace=True)\n",
    "audio_sample_counts_shift_down = audio_sample_counts_shift.groupby([pd.TimeGrouper('30min', level='datetime'), 'member']).max()\n",
    "\n",
    "# switch to relative time (since experiment started)\n",
    "audio_sample_counts_shift_realtive_time = to_relative_datetime(audio_sample_counts_shift_down)\n",
    "audio_sample_counts_shift_realtive_time.head()"
   ]
  },
  {
   "cell_type": "code",
   "execution_count": null,
   "metadata": {},
   "outputs": [],
   "source": [
    "%%R -i audio_sample_counts_shift_realtive_time -w 5 -h 80 --units in -r 200\n",
    "data <- audio_sample_counts_shift_realtive_time\n",
    "#data$datetime <- as.POSIXct(data$datetime, tz = timezone)\n",
    "\n",
    "ggplot(data, aes(x = day, y = time_diff_sec, color = member)) +\n",
    "    geom_line(size=0.2) +\n",
    "    facet_wrap( ~ member, ncol=1)+\n",
    "    #scale_y_continuous(limits = c(0, 60)) +\n",
    "    labs(title=\"Gaps in audio data\", x=\"Day\", y=\"Time diff (sec)\") +\n",
    "    rh_theme +\n",
    "    theme(legend.position=\"none\")"
   ]
  },
  {
   "cell_type": "markdown",
   "metadata": {},
   "source": [
    "# Comparing badge time to hub time\n",
    "Here, we look at event where we send time from the hub to the badge. On each event, the badge reports back its internal time"
   ]
  },
  {
   "cell_type": "code",
   "execution_count": null,
   "metadata": {},
   "outputs": [],
   "source": [
    "clock_syncs.head()"
   ]
  },
  {
   "cell_type": "code",
   "execution_count": null,
   "metadata": {},
   "outputs": [],
   "source": [
    "# Down sample\n",
    "clock_syncs_down = clock_syncs.copy().reset_index()\n",
    "clock_syncs_down['clock_diff']=(clock_syncs_down['datetime']-clock_syncs_down['badge_datetime'])/pd.Timedelta(milliseconds=1)\n",
    "\n",
    "clock_syncs_down.set_index(['datetime','mac'], inplace=True)\n",
    "clock_syncs_down = clock_syncs_down.groupby([pd.TimeGrouper('30min', level='datetime'), 'mac'])['clock_diff'].max().to_frame()\n",
    "clock_syncs_down.reset_index(inplace=True)"
   ]
  },
  {
   "cell_type": "code",
   "execution_count": null,
   "metadata": {},
   "outputs": [],
   "source": [
    "clock_syncs_down.head(5)"
   ]
  },
  {
   "cell_type": "code",
   "execution_count": null,
   "metadata": {},
   "outputs": [],
   "source": [
    "%%R -i clock_syncs_down -w 5 -h 80 --units in -r 200\n",
    "data <- clock_syncs_down\n",
    "data$datetime <- as.POSIXct(data$datetime, tz = timezone)\n",
    "\n",
    "ggplot(data, aes(x = datetime, y = clock_diff, color = mac)) +\n",
    "    geom_line(size=0.2) +\n",
    "    facet_wrap( ~ mac, ncol=1)+\n",
    "    labs(title=\"Time difference between hub and badge\", x=\"Day\", y=\"Clock diff (ms)\") +\n",
    "    rh_theme +\n",
    "    theme(legend.position=\"none\") +\n",
    "    ylim(0, 500)\n"
   ]
  },
  {
   "cell_type": "code",
   "execution_count": null,
   "metadata": {},
   "outputs": [],
   "source": []
  }
 ],
 "metadata": {
  "kernelspec": {
   "display_name": "Python 2",
   "language": "python",
   "name": "python2"
  },
  "language_info": {
   "codemirror_mode": {
    "name": "ipython",
    "version": 2
   },
   "file_extension": ".py",
   "mimetype": "text/x-python",
   "name": "python",
   "nbconvert_exporter": "python",
   "pygments_lexer": "ipython2",
   "version": "2.7.12"
  },
  "toc": {
   "nav_menu": {},
   "number_sections": true,
   "sideBar": true,
   "skip_h1_title": false,
   "title_cell": "Table of Contents",
   "title_sidebar": "Contents",
   "toc_cell": false,
   "toc_position": {},
   "toc_section_display": true,
   "toc_window_display": false
  }
 },
 "nbformat": 4,
 "nbformat_minor": 2
}
