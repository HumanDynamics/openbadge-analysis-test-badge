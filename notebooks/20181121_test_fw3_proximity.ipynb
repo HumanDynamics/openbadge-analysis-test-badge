{
 "cells": [
  {
   "cell_type": "markdown",
   "metadata": {},
   "source": [
    "# Check data from hubs"
   ]
  },
  {
   "cell_type": "markdown",
   "metadata": {},
   "source": [
    "Testing the 29 limit proximity scans\n",
    "\n",
    "Badges -\n",
    " 32 badges with older version\n",
    "One badge with new version\n",
    "5 beacons (with old version, doesn’t matter)\n",
    "\n",
    "I started the hub, activated the badges, then marke all old version badges as active and restarted the hub (so that there is no issue with pulling data)\n",
    "\n",
    "\n",
    "Had some issues with other badges around. Had to restart the whole thing and change the project id to 13\n",
    "\n",
    "tests:\n",
    " ~14:16- - 32 badges, 5 beacons, all very close. Expecting to see at least 4 beacons in a scan\n",
    "~14:22  - 32 badges very close, 5 beacons further away. Expecting to see only 4\n",
    "~14:24 ~ - moved them even further away. Expecting to see only 4\n",
    "~14:27~ - Only 2 beacons very close, 3 are turned off. Expecing to see 2\n",
    "~14:30~ - turn off all\n",
    "\n",
    "\n",
    "\n",
    "The badge that was used for the data itself:\n",
    "FA:6F:8C:0C:39:0D, E92D598WEX\n",
    "\n"
   ]
  },
  {
   "cell_type": "code",
   "execution_count": 1,
   "metadata": {},
   "outputs": [],
   "source": [
    "#import sys\n",
    "#!{sys.executable} -m pip install sklearn"
   ]
  },
  {
   "cell_type": "code",
   "execution_count": 10,
   "metadata": {},
   "outputs": [],
   "source": [
    "from __future__ import absolute_import, division, print_function\n",
    "\n",
    "import pandas as pd\n",
    "import numpy as np\n",
    "\n",
    "import pytz\n",
    "import gzip\n",
    "import os\n",
    "\n",
    "# Import the data analysis tools\n",
    "import openbadge_analysis as ob\n",
    "import openbadge_analysis.preprocessing"
   ]
  },
  {
   "cell_type": "code",
   "execution_count": 19,
   "metadata": {},
   "outputs": [],
   "source": [
    "# Matplotlib for additional customization\n",
    "from matplotlib import pyplot as plt\n",
    "%matplotlib inline\n",
    "\n",
    "# Seaborn for plotting and styling\n",
    "import seaborn as sns"
   ]
  },
  {
   "cell_type": "code",
   "execution_count": 5,
   "metadata": {},
   "outputs": [],
   "source": [
    "# Settings\n",
    "time_zone = 'US/Eastern' # Your local timezone\n",
    "hublog_time_zone = 'UTC'\n",
    "log_version = '2.0'\n",
    "time_bins_size = '15S' # For proximity scans\n",
    "\n",
    "folder = '../data/raw/20181121_test_fw3_proximity/'\n",
    "proximity_filename = folder+'proximity_archive.txt.gz'\n",
    "audio_filename = folder+'audio_archive.txt.gz'\n",
    "hublog_filename = folder+'hub.log.gz'"
   ]
  },
  {
   "cell_type": "markdown",
   "metadata": {},
   "source": [
    "# Load data"
   ]
  },
  {
   "cell_type": "code",
   "execution_count": 11,
   "metadata": {},
   "outputs": [],
   "source": [
    "with gzip.open(proximity_filename, 'r') as f:\n",
    "    m2badge = ob.preprocessing.member_to_badge_proximity(f, time_bins_size, tz=time_zone)"
   ]
  },
  {
   "cell_type": "code",
   "execution_count": 12,
   "metadata": {},
   "outputs": [],
   "source": [
    "m2badge = m2badge.reset_index()"
   ]
  },
  {
   "cell_type": "code",
   "execution_count": 13,
   "metadata": {},
   "outputs": [
    {
     "data": {
      "text/html": [
       "<div>\n",
       "<style>\n",
       "    .dataframe thead tr:only-child th {\n",
       "        text-align: right;\n",
       "    }\n",
       "\n",
       "    .dataframe thead th {\n",
       "        text-align: left;\n",
       "    }\n",
       "\n",
       "    .dataframe tbody tr th {\n",
       "        vertical-align: top;\n",
       "    }\n",
       "</style>\n",
       "<table border=\"1\" class=\"dataframe\">\n",
       "  <thead>\n",
       "    <tr style=\"text-align: right;\">\n",
       "      <th></th>\n",
       "      <th>datetime</th>\n",
       "      <th>member</th>\n",
       "      <th>observed_id</th>\n",
       "      <th>rssi</th>\n",
       "      <th>count</th>\n",
       "    </tr>\n",
       "  </thead>\n",
       "  <tbody>\n",
       "    <tr>\n",
       "      <th>0</th>\n",
       "      <td>2018-11-21 14:15:45-05:00</td>\n",
       "      <td>E92D598WEX</td>\n",
       "      <td>3</td>\n",
       "      <td>-59.0</td>\n",
       "      <td>3.0</td>\n",
       "    </tr>\n",
       "    <tr>\n",
       "      <th>1</th>\n",
       "      <td>2018-11-21 14:15:45-05:00</td>\n",
       "      <td>E92D598WEX</td>\n",
       "      <td>4</td>\n",
       "      <td>-67.0</td>\n",
       "      <td>4.0</td>\n",
       "    </tr>\n",
       "    <tr>\n",
       "      <th>2</th>\n",
       "      <td>2018-11-21 14:15:45-05:00</td>\n",
       "      <td>E92D598WEX</td>\n",
       "      <td>5</td>\n",
       "      <td>-68.0</td>\n",
       "      <td>2.0</td>\n",
       "    </tr>\n",
       "    <tr>\n",
       "      <th>3</th>\n",
       "      <td>2018-11-21 14:15:45-05:00</td>\n",
       "      <td>E92D598WEX</td>\n",
       "      <td>6</td>\n",
       "      <td>-64.0</td>\n",
       "      <td>3.0</td>\n",
       "    </tr>\n",
       "    <tr>\n",
       "      <th>4</th>\n",
       "      <td>2018-11-21 14:15:45-05:00</td>\n",
       "      <td>E92D598WEX</td>\n",
       "      <td>8</td>\n",
       "      <td>-56.0</td>\n",
       "      <td>2.0</td>\n",
       "    </tr>\n",
       "  </tbody>\n",
       "</table>\n",
       "</div>"
      ],
      "text/plain": [
       "                   datetime      member  observed_id  rssi  count\n",
       "0 2018-11-21 14:15:45-05:00  E92D598WEX            3 -59.0    3.0\n",
       "1 2018-11-21 14:15:45-05:00  E92D598WEX            4 -67.0    4.0\n",
       "2 2018-11-21 14:15:45-05:00  E92D598WEX            5 -68.0    2.0\n",
       "3 2018-11-21 14:15:45-05:00  E92D598WEX            6 -64.0    3.0\n",
       "4 2018-11-21 14:15:45-05:00  E92D598WEX            8 -56.0    2.0"
      ]
     },
     "execution_count": 13,
     "metadata": {},
     "output_type": "execute_result"
    }
   ],
   "source": [
    "m2badge.head()"
   ]
  },
  {
   "cell_type": "markdown",
   "metadata": {},
   "source": [
    "# Calc data"
   ]
  },
  {
   "cell_type": "code",
   "execution_count": 14,
   "metadata": {},
   "outputs": [],
   "source": [
    "m2badge['is_beacon'] = m2badge.apply(lambda row: 1 if row.observed_id >= 16000 else 0  ,axis=1)"
   ]
  },
  {
   "cell_type": "code",
   "execution_count": 22,
   "metadata": {},
   "outputs": [
    {
     "data": {
      "text/plain": [
       "<matplotlib.axes._subplots.AxesSubplot at 0x7fc24df7c590>"
      ]
     },
     "execution_count": 22,
     "metadata": {},
     "output_type": "execute_result"
    },
    {
     "data": {
      "image/png": "[encoded data removed]",
      "text/plain": [
       "<Figure size 432x288 with 1 Axes>"
      ]
     },
     "metadata": {},
     "output_type": "display_data"
    }
   ],
   "source": [
    "m2badge.groupby('datetime')['is_beacon'].sum().plot()"
   ]
  },
  {
   "cell_type": "markdown",
   "metadata": {
    "collapsed": true
   },
   "source": [
    "# plot number of beacons and RSSIs"
   ]
  },
  {
   "cell_type": "code",
   "execution_count": 35,
   "metadata": {},
   "outputs": [
    {
     "name": "stderr",
     "output_type": "stream",
     "text": [
      "/home/orenled/.virtualenvs/openbadge-analysis-test-badge/local/lib/python2.7/site-packages/scipy/stats/stats.py:1713: FutureWarning: Using a non-tuple sequence for multidimensional indexing is deprecated; use `arr[tuple(seq)]` instead of `arr[seq]`. In the future this will be interpreted as an array index, `arr[np.array(seq)]`, which will result either in an error or a different result.\n",
      "  return np.add.reduce(sorted[indexer] * weights, axis=axis) / sumval\n"
     ]
    },
    {
     "data": {
      "image/png": "[encoded data removed]",
      "text/plain": [
       "<Figure size 432x288 with 1 Axes>"
      ]
     },
     "metadata": {},
     "output_type": "display_data"
    }
   ],
   "source": [
    "#rssi_means = m2badge.groupby(['datetime','is_beacon'])[['rssi']].mean()\n",
    "#rssi_means\n",
    "#ax = sns.lineplot(rssi_means)\n",
    "ax = sns.lineplot(x=\"datetime\", y=\"rssi\",\n",
    "    hue=\"is_beacon\", style=\"is_beacon\", data=m2badge)"
   ]
  },
  {
   "cell_type": "code",
   "execution_count": null,
   "metadata": {},
   "outputs": [],
   "source": []
  }
 ],
 "metadata": {
  "kernelspec": {
   "display_name": "Python 2",
   "language": "python",
   "name": "python2"
  },
  "language_info": {
   "codemirror_mode": {
    "name": "ipython",
    "version": 2
   },
   "file_extension": ".py",
   "mimetype": "text/x-python",
   "name": "python",
   "nbconvert_exporter": "python",
   "pygments_lexer": "ipython2",
   "version": "2.7.15rc1"
  },
  "toc": {
   "base_numbering": 1,
   "nav_menu": {},
   "number_sections": true,
   "sideBar": true,
   "skip_h1_title": false,
   "title_cell": "Table of Contents",
   "title_sidebar": "Contents",
   "toc_cell": false,
   "toc_position": {},
   "toc_section_display": true,
   "toc_window_display": false
  }
 },
 "nbformat": 4,
 "nbformat_minor": 2
}
